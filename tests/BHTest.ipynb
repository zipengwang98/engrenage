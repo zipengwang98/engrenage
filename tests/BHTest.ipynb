{
 "cells": [
  {
   "cell_type": "code",
   "execution_count": 1,
   "id": "68281b30",
   "metadata": {},
   "outputs": [
    {
     "data": {
      "text/html": [
       "<script>Jupyter.notebook.kernel.restart()</script>"
      ],
      "text/plain": [
       "<IPython.core.display.HTML object>"
      ]
     },
     "execution_count": 1,
     "metadata": {},
     "output_type": "execute_result"
    }
   ],
   "source": [
    "# This is a test to check that the rhs is correctly calculated for a (non trivial) BH spacetime\n",
    "\n",
    "# restart the kernel to clear past work\n",
    "from IPython.core.display import HTML\n",
    "HTML(\"<script>Jupyter.notebook.kernel.restart()</script>\")"
   ]
  },
  {
   "cell_type": "code",
   "execution_count": 3,
   "id": "5ae36db4",
   "metadata": {},
   "outputs": [],
   "source": [
    "# load the required python modules\n",
    "import numpy as np\n",
    "from scipy.interpolate import interp1d\n",
    "from scipy.integrate import odeint\n",
    "import time\n",
    "import random\n",
    "import sys\n",
    "from tqdm import tqdm\n",
    "import matplotlib.pyplot as plt\n",
    "%matplotlib inline\n",
    "\n",
    "# homemade code\n",
    "sys.path.append('../')\n",
    "from source.initialdata.mytests import *                   # go here to change the test conditions\n",
    "from source.matter.nomatter import *                       # the matter class to be used\n",
    "from source.backgrounds.sphericalbackground import *       # go here to look at the background hat metric and scalings\n",
    "from source.core.grid import Grid                          # go here to see how the grid and derivatives are calculated\n",
    "from source.core.spacing import *                          # go here to import spacing\n",
    "from source.core.display import set_grid_on_ax             # to make plots look nice\n",
    "from source.core.statevector import *                      # helps construct the state vector with the matter\n",
    "from source.core.rhsevolution import *                     # go here to look at how the evolution works\n",
    "from source.bssn.tensoralgebra import *                    # some useful tensor algebra functions\n",
    "from source.bssn.constraintsdiagnostic import *                    # go here to change the  diagnostics"
   ]
  },
  {
   "cell_type": "code",
   "execution_count": 4,
   "id": "a0f0a51f-14c8-4dbd-9c25-886783898d9a",
   "metadata": {},
   "outputs": [
    {
     "name": "stdout",
     "output_type": "stream",
     "text": [
      "Grid params are {'r_max': 8, 'extent': <SpacingExtent.HALF: 0>, 'a': np.float64(0.9071147352221454), 'num_points': 158}\n"
     ]
    }
   ],
   "source": [
    "# Set up the chosen matter class\n",
    "scalar_mu = 1.0\n",
    "my_matter = NoMatter()\n",
    "my_state = StateVector(my_matter)\n",
    "\n",
    "# Input parameters for grid and evolution here\n",
    "r_max = 8 # outer edge of the grid (including ghosts)\n",
    "min_dr = 1/64\n",
    "max_dr = 1/8\n",
    "\n",
    "# SinhSpacing\n",
    "# params = SinhSpacing.get_parameters(r_max, min_dr, max_dr)\n",
    "# my_spacing = SinhSpacing(**params)\n",
    "\n",
    "# CubicSpacing\n",
    "params = CubicSpacing.get_parameters(r_max, min_dr, max_dr)\n",
    "my_spacing = CubicSpacing(**params)\n",
    "\n",
    "# Set up the grid and the background\n",
    "grid = Grid(my_spacing, my_state)\n",
    "r = grid.r\n",
    "num_points = r.size\n",
    "my_background = FlatSphericalBackground(r)\n",
    "\n",
    "print(\"Grid params are\", params)"
   ]
  },
  {
   "cell_type": "code",
   "execution_count": 5,
   "id": "197bbb4e",
   "metadata": {},
   "outputs": [],
   "source": [
    "# Test the rhs values, use eddington finkelstein which has non trivial Kij and shift\n",
    "initial_state = get_test_state_bh(grid, my_background)\n",
    "\n",
    "# unpackage the vector for readability\n",
    "[phi,hrr,htt,hpp,K,arr,att,app,lambdar,shiftr,br,lapse] = np.array_split(initial_state, grid.NUM_VARS)\n",
    "\n",
    "#plot initial conditions\n",
    "plt.xlabel('r')\n",
    "plt.plot(r, shiftr, label='shiftr')\n",
    "plt.plot(r, phi, label='phi')\n",
    "#plt.plot(r, hrr, label='hrr')\n",
    "#plt.plot(r, htt, label='htt')\n",
    "plt.plot(r, lambdar, label='lambdar')\n",
    "#plt.plot(r, arr, label='arr')\n",
    "plt.plot(r, K, label='K')\n",
    "plt.plot(r, lapse, label='lapse')\n",
    "plt.ylim(-3.1,3.1)\n",
    "#plt.xlim(-0.5,1.5)\n",
    "plt.legend(loc='best')\n",
    "ax = plt.gcf().gca()\n",
    "set_grid_on_ax(ax, r)\n",
    "\n",
    "#print(r,K)"
   ]
  },
  {
   "cell_type": "code",
   "execution_count": 6,
   "id": "2c958ea2",
   "metadata": {},
   "outputs": [
    {
     "name": "stderr",
     "output_type": "stream",
     "text": [
      "  0%|          | 0/1000 [00:00<?, ?‰/s]"
     ]
    }
   ],
   "source": [
    "# calculate the rhs values and plot them\n",
    "progress_bar = tqdm(total=1000, unit=\"‰\")\n",
    "solution = get_rhs(0.0, initial_state, grid, my_background, my_matter, progress_bar, [0, 1])\n",
    "\n",
    "#unpackage the vector for readability\n",
    "[phi,hrr,htt,hpp,K,arr,att,app,lambdar,shiftr,br,lapse] = np.array_split(solution, grid.NUM_VARS)\n",
    "\n",
    "#plot rhs - all those for the metric components should be zero modulo boundary issues and the inner singularity\n",
    "plt.xlabel('r')\n",
    "plt.plot(r, phi, label='phi')\n",
    "plt.plot(r, hrr, label='hrr')\n",
    "plt.plot(r, htt, label='htt')\n",
    "plt.plot(r, hpp, label='hpp')\n",
    "plt.plot(r, arr, label='arr')\n",
    "plt.plot(r, att, label='att')\n",
    "plt.plot(r, app, label='app')\n",
    "plt.plot(r, K, label='K')\n",
    "plt.plot(r, lambdar, label='lambdar')\n",
    "# Lapse and shift won't have zero time derivs, but just useful to test\n",
    "#plt.plot(r, lapse, label='lapse')\n",
    "#plt.plot(r, shiftr, label='shift')\n",
    "plt.ylim(-0.05,0.05)\n",
    "#plt.xlim(0.15,0.9)\n",
    "plt.legend(loc='best')\n",
    "ax = plt.gcf().gca()\n",
    "set_grid_on_ax(ax, r)"
   ]
  },
  {
   "cell_type": "code",
   "execution_count": 7,
   "id": "6e2efab1",
   "metadata": {},
   "outputs": [
    {
     "data": {
      "text/plain": [
       "(-0.1, 0.1)"
      ]
     },
     "execution_count": 7,
     "metadata": {},
     "output_type": "execute_result"
    }
   ],
   "source": [
    "# check the constraints initially satisfied\n",
    "Ham_test, Mom_test = get_constraints_diagnostic(initial_state, np.array([0]), grid, my_background, my_matter)\n",
    "\n",
    "# plot the profile for Ham\n",
    "plt.plot(r, Ham_test[0], label = \"Ham\")\n",
    "Mom = np.sqrt(Mom_test[0,:,i_r]**2 + Mom_test[0,:,i_t]**2 + Mom_test[0,:,i_p]**2)\n",
    "plt.plot(r, Mom, label = \"Mom\")\n",
    "\n",
    "plt.legend()\n",
    "plt.xlabel('r')\n",
    "plt.ylabel('Value')\n",
    "ax = plt.gcf().gca()\n",
    "set_grid_on_ax(ax, r)\n",
    "#plt.xlim(-0.5,R+2)\n",
    "plt.ylim(-0.1,0.1)"
   ]
  }
 ],
 "metadata": {
  "kernelspec": {
   "display_name": "base",
   "language": "python",
   "name": "python3"
  },
  "language_info": {
   "codemirror_mode": {
    "name": "ipython",
    "version": 3
   },
   "file_extension": ".py",
   "mimetype": "text/x-python",
   "name": "python",
   "nbconvert_exporter": "python",
   "pygments_lexer": "ipython3",
   "version": "3.11.11"
  }
 },
 "nbformat": 4,
 "nbformat_minor": 5
}

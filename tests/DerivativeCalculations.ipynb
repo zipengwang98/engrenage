{
 "cells": [
  {
   "cell_type": "code",
   "execution_count": null,
   "id": "ccb25b43",
   "metadata": {},
   "outputs": [
    {
     "data": {
      "text/html": [
       "<script>Jupyter.notebook.kernel.restart()</script>"
      ],
      "text/plain": [
       "<IPython.core.display.HTML object>"
      ]
     },
     "execution_count": 2,
     "metadata": {},
     "output_type": "execute_result"
    }
   ],
   "source": [
    "# This notebook uses sympy to calculate the appropriate coefficients \n",
    "# for the derivative stencils for the various cases used in engrenage\n",
    "# NB The logarithmic case isn't used any more but is useful for reference \n",
    "\n",
    "# restart the kernel to clear past work\n",
    "from IPython.core.display import HTML\n",
    "HTML(\"<script>Jupyter.notebook.kernel.restart()</script>\")"
   ]
  },
  {
   "cell_type": "code",
   "execution_count": 2,
   "id": "17423e71",
   "metadata": {},
   "outputs": [],
   "source": [
    "import numpy as np\n",
    "from sympy import symbols, simplify, pprint, diff, expand, collect, finite_diff_weights, apply_finite_diff\n",
    "import matplotlib.pyplot as plt\n",
    "import sys\n",
    "%matplotlib inline\n",
    "\n",
    "sys.path.append('../')\n",
    "from source.core.grid import Grid                   # go here to see how the grid and derivatives are calculated\n",
    "from source.core.spacing import *                   # go here to import spacing"
   ]
  },
  {
   "cell_type": "code",
   "execution_count": 3,
   "id": "8e3a2888",
   "metadata": {},
   "outputs": [
    {
     "name": "stdout",
     "output_type": "stream",
     "text": [
      "Its first derivative at x3 is (f1 - 8*f2 + 8*f4 - f5)/(12*dx)\n",
      "Its second derivative at x3 is (-f1 + 16*f2 - 30*f3 + 16*f4 - f5)/(12*dx**2)\n",
      "This gives the first derivative stencil \n",
      "\n",
      "f₁ - 8⋅f₂ + 8⋅f₄ - f₅\n",
      "─────────────────────\n",
      "        12⋅dx        \n",
      "This gives the second derivative stencil \n",
      "\n",
      "-f₁ + 16⋅f₂ - 30⋅f₃ + 16⋅f₄ - f₅\n",
      "────────────────────────────────\n",
      "                  2             \n",
      "             12⋅dx              \n"
     ]
    }
   ],
   "source": [
    "# Check the finite derivatives for a fixed spacing dx, centered derivative\n",
    "# using 5 points (so O(dx^4) accurate)\n",
    "\n",
    "# Construct the Lagrange polynomial using sympy\n",
    "x = symbols('x')\n",
    "deltax = symbols('dx')\n",
    "x3 = symbols('x3')\n",
    "x2 = x3-deltax\n",
    "x1 = x2-deltax\n",
    "x4 = x3+deltax\n",
    "x5 = x4+deltax\n",
    "f1 = symbols('f1')\n",
    "f2 = symbols('f2')\n",
    "f3 = symbols('f3')\n",
    "f4 = symbols('f4')\n",
    "f5 = symbols('f5')\n",
    "\n",
    "L1 = (x - x2 ) / (x1 - x2) * (x - x3 ) / (x1 - x3)* (x - x4) / (x1 - x4) * (x - x5 ) / (x1 - x5)\n",
    "L2 = (x - x1 ) / (x2 - x1) * (x - x3 ) / (x2 - x3)* (x - x4 ) / (x2 - x4)* (x - x5 ) / (x2 - x5)\n",
    "L3 = (x - x1 ) / (x3 - x1) * (x - x2 ) / (x3 - x2)* (x - x4 ) / (x3 - x4)* (x - x5 ) / (x3 - x5)\n",
    "L4 = (x - x1 ) / (x4 - x1) * (x - x2 ) / (x4 - x2)* (x - x3 ) / (x4 - x3)* (x - x5 ) / (x4 - x5)\n",
    "L5 = (x - x1 ) / (x5 - x1) * (x - x2 ) / (x5 - x2)* (x - x3 ) / (x5 - x3)* (x - x4 ) / (x5 - x4)\n",
    "P = f1 * L1 + f2 * L2 + f3 * L3 + f4 * L4 + f5 * L5\n",
    "#print(\"Using sympy we get the polynomial\", simplify(P))\n",
    "#pprint(simplify(P))\n",
    "\n",
    "# Now take the derivative twice\n",
    "dPdx = diff(P, x)\n",
    "#print(\"Its first derivative is\", simplify(dPdx))\n",
    "\n",
    "d2Pdx2 = diff(dPdx, x)\n",
    "#print(\"Its second derivative is\", simplify(d2Pdx2))\n",
    "#pprint(simplify(dPdx))\n",
    "\n",
    "# Now find the value at the central point x3\n",
    "dPdx_at_x3 = dPdx.subs(x, x3)\n",
    "d2Pdx2_at_x3 = d2Pdx2.subs(x, x3)\n",
    "print(\"Its first derivative at x3 is\", simplify(dPdx_at_x3))\n",
    "print(\"Its second derivative at x3 is\", simplify(d2Pdx2_at_x3))\n",
    "print(\"This gives the first derivative stencil \\n\")\n",
    "pprint(simplify(dPdx_at_x3))\n",
    "print(\"This gives the second derivative stencil \\n\")\n",
    "pprint(simplify(d2Pdx2_at_x3))"
   ]
  },
  {
   "cell_type": "code",
   "execution_count": 5,
   "id": "2fdc9806",
   "metadata": {},
   "outputs": [
    {
     "name": "stdout",
     "output_type": "stream",
     "text": [
      "The coefficient of the f5 term in the first derivative stencil is \n",
      "\n",
      "              -f₅                \n",
      "─────────────────────────────────\n",
      " 2 ⎛ 2        ⎞ ⎛ 3    2        ⎞\n",
      "c ⋅⎝c  + c + 1⎠⋅⎝c  + c  + c + 1⎠\n",
      "\n",
      " In the case where c is 1 we can check it matches the above:\n",
      "f₁   2⋅f₂   2⋅f₄   f₅\n",
      "── - ──── + ──── - ──\n",
      "12    3      3     12\n"
     ]
    }
   ],
   "source": [
    "# Example with non even spacing - the logarithmic case\n",
    "\n",
    "# Check the finite derivatives for log factor of c, centered derivative\n",
    "# using 5 points (so O(dx^4) accurate)\n",
    "\n",
    "# Construct the polynomial using sympy\n",
    "x = symbols('x')\n",
    "c = symbols('c')\n",
    "dx = symbols('dx')\n",
    "x1 = dx/2\n",
    "x2 = x1+(c*dx)\n",
    "x3 = x2+(c*c*dx)\n",
    "x4 = x3+(c*c*c*dx)\n",
    "x5 = x4+(c*c*c*c*dx)\n",
    "f1 = symbols('f1')\n",
    "f2 = symbols('f2')\n",
    "f3 = symbols('f3')\n",
    "f4 = symbols('f4')\n",
    "f5 = symbols('f5')\n",
    "\n",
    "L1 = (x - x2 ) / (x1 - x2) * (x - x3 ) / (x1 - x3)* (x - x4) / (x1 - x4) * (x - x5 ) / (x1 - x5)\n",
    "L2 = (x - x1 ) / (x2 - x1) * (x - x3 ) / (x2 - x3)* (x - x4 ) / (x2 - x4)* (x - x5 ) / (x2 - x5)\n",
    "L3 = (x - x1 ) / (x3 - x1) * (x - x2 ) / (x3 - x2)* (x - x4 ) / (x3 - x4)* (x - x5 ) / (x3 - x5)\n",
    "L4 = (x - x1 ) / (x4 - x1) * (x - x2 ) / (x4 - x2)* (x - x3 ) / (x4 - x3)* (x - x5 ) / (x4 - x5)\n",
    "L5 = (x - x1 ) / (x5 - x1) * (x - x2 ) / (x5 - x2)* (x - x3 ) / (x5 - x3)* (x - x4 ) / (x5 - x4)\n",
    "P = f1 * L1 + f2 * L2 + f3 * L3 + f4 * L4 + f5 * L5\n",
    "#print(\"Using sympy we get the polynomial\", simplify(P))\n",
    "#pprint(simplify(P))\n",
    "\n",
    "# Now take the derivative twice\n",
    "dPdx = diff(P, x)\n",
    "#print(\"Its first derivative is\", simplify(dPdx))\n",
    "\n",
    "d2Pdx2 = diff(dPdx, x)\n",
    "#print(\"Its second derivative is\", simplify(d2Pdx2))\n",
    "#pprint(simplify(dPdx))\n",
    "\n",
    "# Now find the value at the central point x3\n",
    "dPdx_at_x3 = dPdx.subs(x, x3)\n",
    "d2Pdx2_at_x3 = d2Pdx2.subs(x, x3)\n",
    "#print(\"Its first derivative at x2 is\", simplify(dPdx_at_x3))\n",
    "#print(\"Its second derivative at x2 is\", simplify(d2Pdx2_at_x3))\n",
    "#print(\"This gives the first derivative stencil \\n\")\n",
    "#pprint(simplify(dPdx_at_x3))\n",
    "#print(\"This gives the second derivative stencil \\n\")\n",
    "#pprint(simplify(d2Pdx2_at_x3))\n",
    "\n",
    "# Easier to isolate out the terms one by one - coeff of f5 first\n",
    "f5_dPdx_at_x3 = dPdx_at_x3.subs(f1, 0)\n",
    "f5_dPdx_at_x3 = f5_dPdx_at_x3.subs(f2, 0)\n",
    "f5_dPdx_at_x3 = f5_dPdx_at_x3.subs(f3, 0)\n",
    "f5_dPdx_at_x3 = f5_dPdx_at_x3.subs(f4, 0)\n",
    "f5_dPdx_at_x3 = simplify(f5_dPdx_at_x3)\n",
    "dR_at_x3 = (c*c*dx)\n",
    "print(\"The coefficient of the f5 term in the first derivative stencil is \\n\")\n",
    "pprint(f5_dPdx_at_x3 * dR_at_x3)\n",
    "\n",
    "print(\"\\n In the case where c is 1 we can check it matches the above:\")\n",
    "pprint(simplify(((dPdx_at_x3 * dR_at_x3).subs(c,1))))"
   ]
  },
  {
   "cell_type": "code",
   "execution_count": 6,
   "id": "7a557f6c",
   "metadata": {},
   "outputs": [
    {
     "data": {
      "text/latex": [
       "$\\displaystyle 0$"
      ],
      "text/plain": [
       "0"
      ]
     },
     "execution_count": 6,
     "metadata": {},
     "output_type": "execute_result"
    }
   ],
   "source": [
    "# check the form matches the simpler one used in the code\n",
    "# (sympy not great at simplifying)\n",
    "check = -f5/(c**2 * (1 + c) *(1 + c**2) * (1 + c + c**2))\n",
    "simplify(f5_dPdx_at_x3 * dR_at_x3 - check)"
   ]
  },
  {
   "cell_type": "code",
   "execution_count": 7,
   "id": "0a11428f",
   "metadata": {},
   "outputs": [
    {
     "name": "stdout",
     "output_type": "stream",
     "text": [
      "The coefficient of the f5 term in the first derivative stencil is \n",
      "\n",
      "           ⎛ 2                    ⎞      \n",
      "     -2⋅f₅⋅⎝c  + c⋅(c + 1) - c - 1⎠      \n",
      "─────────────────────────────────────────\n",
      " 3         ⎛ 2        ⎞ ⎛ 3    2        ⎞\n",
      "c ⋅(c + 1)⋅⎝c  + c + 1⎠⋅⎝c  + c  + c + 1⎠\n"
     ]
    }
   ],
   "source": [
    "# Same for second derivs - coeff of f5 first\n",
    "f5_d2Pdx2_at_x3 = d2Pdx2_at_x3.subs(f1, 0)\n",
    "f5_d2Pdx2_at_x3 = f5_d2Pdx2_at_x3.subs(f2, 0)\n",
    "f5_d2Pdx2_at_x3 = f5_d2Pdx2_at_x3.subs(f3, 0)\n",
    "f5_d2Pdx2_at_x3 = f5_d2Pdx2_at_x3.subs(f4, 0)\n",
    "f5_d2Pdx2_at_x3 = simplify(f5_d2Pdx2_at_x3)\n",
    "dR_at_x3 = (c*c*dx)\n",
    "print(\"The coefficient of the f5 term in the first derivative stencil is \\n\")\n",
    "pprint(simplify(f5_d2Pdx2_at_x3 * dR_at_x3 * dR_at_x3))"
   ]
  }
 ],
 "metadata": {
  "kernelspec": {
   "display_name": "base",
   "language": "python",
   "name": "python3"
  },
  "language_info": {
   "codemirror_mode": {
    "name": "ipython",
    "version": 3
   },
   "file_extension": ".py",
   "mimetype": "text/x-python",
   "name": "python",
   "nbconvert_exporter": "python",
   "pygments_lexer": "ipython3",
   "version": "3.11.11"
  }
 },
 "nbformat": 4,
 "nbformat_minor": 5
}
